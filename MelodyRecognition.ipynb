{
 "cells": [
  {
   "cell_type": "code",
   "outputs": [
    {
     "ename": "TypeError",
     "evalue": "melspectrogram() takes 0 positional arguments but 1 positional argument (and 1 keyword-only argument) were given",
     "output_type": "error",
     "traceback": [
      "\u001B[1;31m---------------------------------------------------------------------------\u001B[0m",
      "\u001B[1;31mTypeError\u001B[0m                                 Traceback (most recent call last)",
      "Cell \u001B[1;32mIn[3], line 40\u001B[0m\n\u001B[0;32m     37\u001B[0m     \u001B[38;5;66;03m# 这里需要添加模型训练和旋律分离的代码\u001B[39;00m\n\u001B[0;32m     39\u001B[0m \u001B[38;5;28;01mif\u001B[39;00m \u001B[38;5;18m__name__\u001B[39m \u001B[38;5;241m==\u001B[39m \u001B[38;5;124m'\u001B[39m\u001B[38;5;124m__main__\u001B[39m\u001B[38;5;124m'\u001B[39m:\n\u001B[1;32m---> 40\u001B[0m     \u001B[43mmain\u001B[49m\u001B[43m(\u001B[49m\u001B[43m)\u001B[49m\n",
      "Cell \u001B[1;32mIn[3], line 33\u001B[0m, in \u001B[0;36mmain\u001B[1;34m()\u001B[0m\n\u001B[0;32m     31\u001B[0m audio_path \u001B[38;5;241m=\u001B[39m \u001B[38;5;124m'\u001B[39m\u001B[38;5;124m./zhmagicdata/5_541/5_541_20170607142916.wav\u001B[39m\u001B[38;5;124m'\u001B[39m \u001B[38;5;66;03m# 替换为你的音频文件路径\u001B[39;00m\n\u001B[0;32m     32\u001B[0m audio, sr \u001B[38;5;241m=\u001B[39m load_audio_file(audio_path)\n\u001B[1;32m---> 33\u001B[0m features \u001B[38;5;241m=\u001B[39m \u001B[43mextract_features\u001B[49m\u001B[43m(\u001B[49m\u001B[43maudio\u001B[49m\u001B[43m,\u001B[49m\u001B[43m \u001B[49m\u001B[43msr\u001B[49m\u001B[43m)\u001B[49m\n\u001B[0;32m     34\u001B[0m features \u001B[38;5;241m=\u001B[39m np\u001B[38;5;241m.\u001B[39mexpand_dims(features, axis\u001B[38;5;241m=\u001B[39m\u001B[38;5;241m0\u001B[39m)  \u001B[38;5;66;03m# 增加一个维度以符合模型输入\u001B[39;00m\n\u001B[0;32m     36\u001B[0m model \u001B[38;5;241m=\u001B[39m build_model((features\u001B[38;5;241m.\u001B[39mshape[\u001B[38;5;241m1\u001B[39m], features\u001B[38;5;241m.\u001B[39mshape[\u001B[38;5;241m2\u001B[39m]))\n",
      "Cell \u001B[1;32mIn[3], line 15\u001B[0m, in \u001B[0;36mextract_features\u001B[1;34m(audio, sr)\u001B[0m\n\u001B[0;32m     13\u001B[0m \u001B[38;5;28;01mdef\u001B[39;00m \u001B[38;5;21mextract_features\u001B[39m(audio, sr):\n\u001B[0;32m     14\u001B[0m     \u001B[38;5;66;03m# 使用梅尔频谱\u001B[39;00m\n\u001B[1;32m---> 15\u001B[0m     mel_spectrogram \u001B[38;5;241m=\u001B[39m \u001B[43mlibrosa\u001B[49m\u001B[38;5;241;43m.\u001B[39;49m\u001B[43mfeature\u001B[49m\u001B[38;5;241;43m.\u001B[39;49m\u001B[43mmelspectrogram\u001B[49m\u001B[43m(\u001B[49m\u001B[43maudio\u001B[49m\u001B[43m,\u001B[49m\u001B[43m \u001B[49m\u001B[43msr\u001B[49m\u001B[38;5;241;43m=\u001B[39;49m\u001B[43msr\u001B[49m\u001B[43m,\u001B[49m\u001B[43m \u001B[49m\u001B[43mn_mels\u001B[49m\u001B[38;5;241;43m=\u001B[39;49m\u001B[38;5;241;43m128\u001B[39;49m\u001B[43m)\u001B[49m\n\u001B[0;32m     16\u001B[0m     log_mel_spectrogram \u001B[38;5;241m=\u001B[39m librosa\u001B[38;5;241m.\u001B[39mpower_to_db(mel_spectrogram)\n\u001B[0;32m     17\u001B[0m     \u001B[38;5;28;01mreturn\u001B[39;00m log_mel_spectrogram\n",
      "\u001B[1;31mTypeError\u001B[0m: melspectrogram() takes 0 positional arguments but 1 positional argument (and 1 keyword-only argument) were given"
     ]
    }
   ],
   "source": [
    "import librosa\n",
    "import numpy as np\n",
    "import tensorflow as tf\n",
    "from tensorflow.keras.models import Sequential\n",
    "from tensorflow.keras.layers import Dense, LSTM\n",
    "\n",
    "# 加载音频文件\n",
    "def load_audio_file(file_path):\n",
    "    y, sr = librosa.load(file_path, sr=None)\n",
    "    return y, sr\n",
    "\n",
    "# 提取特征\n",
    "def extract_features(audio, sr):\n",
    "    # 使用梅尔频谱\n",
    "    mel_spectrogram = librosa.feature.melspectrogram(audio, sr=sr, n_mels=128)\n",
    "    log_mel_spectrogram = librosa.power_to_db(mel_spectrogram)\n",
    "    return log_mel_spectrogram\n",
    "\n",
    "# 创建简单的神经网络模型\n",
    "def build_model(input_shape):\n",
    "    model = Sequential()\n",
    "    model.add(LSTM(64, return_sequences=True, input_shape=input_shape))\n",
    "    model.add(LSTM(64))\n",
    "    model.add(Dense(64, activation='relu'))\n",
    "    model.add(Dense(1, activation='sigmoid')) # 输出层，可能需要根据任务调整\n",
    "    model.compile(loss='binary_crossentropy', optimizer='adam') # 损失函数和优化器可能需要根据任务调整\n",
    "    return model\n",
    "\n",
    "# 主函数\n",
    "def main():\n",
    "    audio_path = './zhmagicdata/5_541/5_541_20170607142916.wav' # 替换为你的音频文件路径\n",
    "    audio, sr = load_audio_file(audio_path)\n",
    "    features = extract_features(audio, sr)\n",
    "    features = np.expand_dims(features, axis=0)  # 增加一个维度以符合模型输入\n",
    "\n",
    "    model = build_model((features.shape[1], features.shape[2]))\n",
    "    # 这里需要添加模型训练和旋律分离的代码\n",
    "\n",
    "if __name__ == '__main__':\n",
    "    main()\n"
   ],
   "metadata": {
    "collapsed": false,
    "ExecuteTime": {
     "end_time": "2024-02-11T10:52:52.537500Z",
     "start_time": "2024-02-11T10:52:52.432100200Z"
    }
   },
   "id": "7669a623200c6686",
   "execution_count": 3
  },
  {
   "cell_type": "code",
   "outputs": [],
   "source": [],
   "metadata": {
    "collapsed": false
   },
   "id": "549ec7c8771640a1"
  }
 ],
 "metadata": {
  "kernelspec": {
   "display_name": "Python 3",
   "language": "python",
   "name": "python3"
  },
  "language_info": {
   "codemirror_mode": {
    "name": "ipython",
    "version": 2
   },
   "file_extension": ".py",
   "mimetype": "text/x-python",
   "name": "python",
   "nbconvert_exporter": "python",
   "pygments_lexer": "ipython2",
   "version": "2.7.6"
  }
 },
 "nbformat": 4,
 "nbformat_minor": 5
}
