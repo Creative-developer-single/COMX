{
 "cells": [
  {
   "cell_type": "code",
   "execution_count": null,
   "id": "initial_id",
   "metadata": {
    "collapsed": true
   },
   "outputs": [],
   "source": [
    "from music21 import converter, interval, stream\n",
    "\n",
    "def transpose_minor_to_major(file_path):\n",
    "    # Load the music file\n",
    "    score = converter.parse(file_path)\n",
    "    key = score.analyze('key')\n",
    "\n",
    "    # Check if the key is minor\n",
    "    if key.mode == 'minor':\n",
    "        # Calculate the interval to transpose\n",
    "        interval_to_transpose = interval.Interval(key.tonic, key.relative.major.tonic)\n",
    "        transposed_score = score.transpose(interval_to_transpose)\n",
    "        \n",
    "        # Save or process the transposed score\n",
    "        transposed_score.write('midi', 'transposed_file.mid')\n",
    "        return 'transposed_file.mid'\n",
    "    else:\n",
    "        return 'The piece is already in a major key.'\n",
    "\n",
    "# Example usage\n",
    "transposed_file = transpose_minor_to_major('path_to_your_music_file.mid')\n",
    "print(f\"Transposed file saved as: {transposed_file}\")\n"
   ]
  }
 ],
 "metadata": {
  "kernelspec": {
   "display_name": "Python 3",
   "language": "python",
   "name": "python3"
  },
  "language_info": {
   "codemirror_mode": {
    "name": "ipython",
    "version": 2
   },
   "file_extension": ".py",
   "mimetype": "text/x-python",
   "name": "python",
   "nbconvert_exporter": "python",
   "pygments_lexer": "ipython2",
   "version": "2.7.6"
  }
 },
 "nbformat": 4,
 "nbformat_minor": 5
}
